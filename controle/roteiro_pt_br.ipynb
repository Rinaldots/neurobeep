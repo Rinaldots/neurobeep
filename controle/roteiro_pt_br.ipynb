{
 "cells": [
  {
   "cell_type": "code",
   "execution_count": null,
   "id": "87f1b0cc",
   "metadata": {},
   "outputs": [],
   "source": []
  },
  {
   "cell_type": "code",
   "execution_count": null,
   "id": "50f3cc97",
   "metadata": {},
   "outputs": [],
   "source": []
  },
  {
   "cell_type": "markdown",
   "id": "0684f98a",
   "metadata": {},
   "source": [
    "- is_relaxed_from_heg():\n",
    "    verifica se o sinal do HEG sinaliza relaxamento;\n",
    "    max_duration_relax_trial\n",
    "- waiting_start_trial (heg_min)\n",
    "    - Espera atingir o limiar do HEG ou o tempo máximo de espera para relaxamento \n",
    "    - Se o foi verificado o relaxamento a partir do sinal do HEG:\n",
    "        - Informa (áudio+visual) ao usuário que a trial será iniciada em alguns segundos (1-3 segundos). \n",
    "        - Gera o tempo aleatório de espera de início de trial-->wating_start_time_rnd\n",
    "        - Espera o tempo inicial definido --> sleep(wating_start_time_rnd)\n",
    "        - Verifica se o robô está base --> is_robot_on_starting_point()\n",
    "        - Se o is_robot_on_starting_point():\n",
    "            - Obtém do robô o robot_id\n",
    "            - Obtém do robô o lona_id \n",
    "            - A partir do lona_id obém a lista de letras existentes na lona--> letter_list\n",
    "            - Seleciona aleatoriamente a letra da próxima trial para a lona utilizada --> rnd(letter_list) --> target_letter\n",
    "            - Envia informação sensorial sobre a letra desejada (target_letter) --> sensory_play_start_trial(target_letter)\n",
    "- Inicia o movimento\n",
    "    - Envia o cmd para o robot iniciar o movimento--> robot_start()\n",
    "    - Aguarda enquanto is_focused_on_heg() ou robo_fez_a_curva ou tempo máximo atingido\n",
    "    - Se is_focused_on_heg() \n",
    "        robot_pos=get_from_robot_position()  \n",
    "        current_position=get_current_position(robot_pos)\n",
    "        if position_match_letter(current_position,target_letter)\n",
    "            - Envia informação sensorial sobre a letra desejada (target_letter) --> sensory_play_feedback(target_letter, match=True)\n",
    "        else\n",
    "        - Envia informação sensorial sobre a letra desejada (target_letter) --> sensory_play_feedback(target_letter, match=False)\n",
    "    - Else\n",
    "        if robo_fez_a_curva() ou tempo máximo atingido\n",
    "        - Envia informação sensorial sobre a falha na tentativa sensory_play_feedback(target_letter, match=False, non_choice=True)\n",
    "    update_database(trial,robot_pos,??)\n",
    "    - Envia comando para robo par retorno para a base\n",
    "\n",
    "\n",
    "\n",
    "\n"
   ]
  }
 ],
 "metadata": {
  "language_info": {
   "name": "python"
  }
 },
 "nbformat": 4,
 "nbformat_minor": 5
}
